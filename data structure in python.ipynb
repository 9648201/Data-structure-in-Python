{
  "nbformat": 4,
  "nbformat_minor": 0,
  "metadata": {
    "colab": {
      "provenance": []
    },
    "kernelspec": {
      "name": "python3",
      "display_name": "Python 3"
    },
    "language_info": {
      "name": "python"
    }
  },
  "cells": [
    {
      "cell_type": "markdown",
      "source": [
        "Q.1 Write a code to reverse a string."
      ],
      "metadata": {
        "id": "yUCtn8uDThdE"
      }
    },
    {
      "cell_type": "code",
      "execution_count": null,
      "metadata": {
        "id": "LndxvhJINxR-"
      },
      "outputs": [],
      "source": [
        "#Ans\n",
        "#string reverse\n",
        "string1 = \"Shivam Pandey\"\n"
      ]
    },
    {
      "cell_type": "code",
      "source": [
        "string1[::-1]"
      ],
      "metadata": {
        "colab": {
          "base_uri": "https://localhost:8080/",
          "height": 36
        },
        "id": "7S3-YrcwWwN-",
        "outputId": "b6a16aa3-d376-4ce0-80f8-697d74f0d152"
      },
      "execution_count": null,
      "outputs": [
        {
          "output_type": "execute_result",
          "data": {
            "text/plain": [
              "'yednaP mavihS'"
            ],
            "application/vnd.google.colaboratory.intrinsic+json": {
              "type": "string"
            }
          },
          "metadata": {},
          "execution_count": 2
        }
      ]
    },
    {
      "cell_type": "code",
      "source": [
        "s = \"pwskills\"\n"
      ],
      "metadata": {
        "id": "K1xYcj9UYbfn"
      },
      "execution_count": null,
      "outputs": []
    },
    {
      "cell_type": "code",
      "source": [
        "print(s[::-1])"
      ],
      "metadata": {
        "colab": {
          "base_uri": "https://localhost:8080/"
        },
        "id": "O6KG8gCMYpwI",
        "outputId": "80ec353b-bdcc-491f-9058-56cde7836944"
      },
      "execution_count": null,
      "outputs": [
        {
          "output_type": "stream",
          "name": "stdout",
          "text": [
            "sllikswp\n"
          ]
        }
      ]
    },
    {
      "cell_type": "markdown",
      "source": [
        "Q.2 Write a code to count the number of vowels in a string."
      ],
      "metadata": {
        "id": "iKYUB5ixYxgo"
      }
    },
    {
      "cell_type": "code",
      "source": [
        "#Ans\n",
        "#count the vowel\n",
        "s=input(\"Enter your string:\")\n",
        "print(s)\n",
        "vowels = \"aeiouAEIOU\"\n",
        "count = 0\n",
        "for char in s:\n",
        "    if char in vowels:\n",
        "        count +=1\n",
        "print(count)"
      ],
      "metadata": {
        "colab": {
          "base_uri": "https://localhost:8080/"
        },
        "id": "FMR_bRjNNEaa",
        "outputId": "c47791b4-d812-4b5a-81d8-711049d9f3f0"
      },
      "execution_count": null,
      "outputs": [
        {
          "output_type": "stream",
          "name": "stdout",
          "text": [
            "Enter your string:Shivam Pandey\n",
            "Shivam Pandey\n",
            "4\n"
          ]
        }
      ]
    },
    {
      "cell_type": "markdown",
      "source": [
        "Q.3 Write a code to check if a given string is a palindrome or not."
      ],
      "metadata": {
        "id": "FPt9LaH_PFDl"
      }
    },
    {
      "cell_type": "code",
      "source": [
        "#Ans\n",
        "#Program to check a string is palindrome or not.\n",
        "a= input(\"Enter a string:\")\n",
        "b=a[-1::-1]\n",
        "if(a==b):\n",
        "      print(\"palindrome\")\n",
        "else:\n",
        "    print(\"not palindrome\")"
      ],
      "metadata": {
        "id": "x6LnFXsaPsiM",
        "colab": {
          "base_uri": "https://localhost:8080/"
        },
        "outputId": "ca0345a2-1cf3-4277-bbf2-75147261ddd7"
      },
      "execution_count": null,
      "outputs": [
        {
          "output_type": "stream",
          "name": "stdout",
          "text": [
            "Enter a string:madam\n",
            "palindrome\n"
          ]
        }
      ]
    },
    {
      "cell_type": "markdown",
      "source": [
        "Q.4 Write a code to check if two given strings are anagrams of each other.\n",
        "\n",
        "\n",
        "Ans. 1.Both strings should be of equal length.\n",
        "    2. Both strings should have same charecters in same order or different order"
      ],
      "metadata": {
        "id": "IqEJD5O9m774"
      }
    },
    {
      "cell_type": "code",
      "source": [
        "\n",
        "#ANS. 1.Both strings should be of equal length.   2. Both strings should have same charecters in same order or different order.\n",
        "#examples>>\n",
        "\n",
        "str1=input(\"Enter string1:\")\n",
        "str2=input(\"Enter string2:\")\n",
        "if len(str1)!=len(str2):\n",
        "    print(\"Not Anagrams\")\n",
        "else:\n",
        "    if sorted(str1)==sorted(str2):\n",
        "        print(\"Strings are Anagrams\")\n",
        "    else:\n",
        "        print(\"Not Anagrams\")"
      ],
      "metadata": {
        "id": "EiCUHlhVnhht",
        "colab": {
          "base_uri": "https://localhost:8080/"
        },
        "outputId": "7eac6b80-8f8b-4b20-8381-f59428f30956"
      },
      "execution_count": null,
      "outputs": [
        {
          "output_type": "stream",
          "name": "stdout",
          "text": [
            "Enter string1:earth\n",
            "Enter string2:heart\n",
            "Strings are Anagrams\n"
          ]
        }
      ]
    },
    {
      "cell_type": "markdown",
      "source": [
        "Q.5 Write a code to find all occurrences of a given substring within another string."
      ],
      "metadata": {
        "id": "mYVShWzGhBdl"
      }
    },
    {
      "cell_type": "code",
      "source": [
        "\n",
        "#Ans.\n",
        "string = input(\"Enter a string:\")\n",
        "substring = input(\"Enter a substring to check in string:\")\n",
        "\n",
        "if substring in string:\n",
        "    print(\"Yes substring is present !!!\")\n",
        "else:\n",
        "    print(\"substring is absent...\")"
      ],
      "metadata": {
        "id": "Gxot1bnvpK9d",
        "colab": {
          "base_uri": "https://localhost:8080/"
        },
        "outputId": "2ade4f9e-0441-418f-acb9-42c12b6dc22f"
      },
      "execution_count": null,
      "outputs": [
        {
          "output_type": "stream",
          "name": "stdout",
          "text": [
            "Enter a string:Hello world \n",
            "Enter a substring to check in string:o w\n",
            "Yes substring is present !!!\n"
          ]
        }
      ]
    },
    {
      "cell_type": "markdown",
      "source": [
        "Q.6 Write a code to perform basic string compression using the counts of repeated charecters."
      ],
      "metadata": {
        "id": "KWwUuoK9vkSh"
      }
    },
    {
      "cell_type": "code",
      "source": [
        "\n",
        "#Ans.Here the ans is 3 times A , 3 times B and 3 times C\n",
        "string = input(\"Enter a string:\")\n",
        "char = string[0]\n",
        "result = \"\"\n",
        "count=0\n",
        "string=string+\" \"\n",
        "for i in string:\n",
        "\n",
        "    if i==char:\n",
        "        count+=1\n",
        "    else:\n",
        "        result=result+char+str(count)\n",
        "        char=i\n",
        "        count=1\n",
        "print(result)\n",
        "\n"
      ],
      "metadata": {
        "id": "PxMPKr7-pLA-",
        "colab": {
          "base_uri": "https://localhost:8080/"
        },
        "outputId": "39fa8700-2c93-4370-a933-528d3c7c2fd4"
      },
      "execution_count": null,
      "outputs": [
        {
          "output_type": "stream",
          "name": "stdout",
          "text": [
            "Enter a string:AAABBBCCC\n",
            "A3B3C3\n"
          ]
        }
      ]
    },
    {
      "cell_type": "markdown",
      "source": [
        "Q.7 Write a code to determine if a string has all unique characters."
      ],
      "metadata": {
        "id": "NSqZJZuP4Cr1"
      }
    },
    {
      "cell_type": "code",
      "source": [
        "\n",
        "#Ans.\n",
        "def check_unique(string):\n",
        "    unique_characters = [\"a\",\"b\",\"c\"]\n",
        "    for character in string:\n",
        "        if character in unique_characters:\n",
        "            return True\n",
        "        else:\n",
        "            unique_characters.append(character)\n",
        "    return False\n",
        "test= \"Shivam\"\n",
        "print(check_unique(test))"
      ],
      "metadata": {
        "id": "UhUh2E8RpLGf",
        "colab": {
          "base_uri": "https://localhost:8080/"
        },
        "outputId": "23f6e373-7a4e-4a29-e484-e3ed88c88111"
      },
      "execution_count": null,
      "outputs": [
        {
          "output_type": "stream",
          "name": "stdout",
          "text": [
            "True\n"
          ]
        }
      ]
    },
    {
      "cell_type": "markdown",
      "source": [
        "Q.8 Write a code to convert a given string  to uppercase or lowercase."
      ],
      "metadata": {
        "id": "0oJc8I1U-wYM"
      }
    },
    {
      "cell_type": "code",
      "source": [
        "\n",
        "#Ans uppercase of a string\n",
        "string = input(\"Enter a string:\")\n",
        "print(string.upper())"
      ],
      "metadata": {
        "id": "YuWww6dlpLSe",
        "colab": {
          "base_uri": "https://localhost:8080/"
        },
        "outputId": "f390d766-5b57-4909-8753-e2d3ab7b7c1d"
      },
      "execution_count": null,
      "outputs": [
        {
          "output_type": "stream",
          "name": "stdout",
          "text": [
            "Enter a string:Hello World\n",
            "HELLO WORLD\n"
          ]
        }
      ]
    },
    {
      "cell_type": "code",
      "source": [
        "#Lowercase of a string\n",
        "string=input(\"Enter a string:\")\n",
        "print(string.lower())\n"
      ],
      "metadata": {
        "id": "FK42obfspLc-",
        "colab": {
          "base_uri": "https://localhost:8080/"
        },
        "outputId": "6dcf1661-7d39-434f-b496-04c4faa468dc"
      },
      "execution_count": null,
      "outputs": [
        {
          "output_type": "stream",
          "name": "stdout",
          "text": [
            "Enter a string:Hello World\n",
            "hello world\n"
          ]
        }
      ]
    },
    {
      "cell_type": "markdown",
      "source": [
        "Q.9 Write a code to count the number of words in a string."
      ],
      "metadata": {
        "id": "g9ozJ2CBBPcR"
      }
    },
    {
      "cell_type": "code",
      "source": [
        "\n",
        "#Ans.\n",
        "s= input(\"Enter a string:\")\n",
        "strlist=s.split()\n",
        "print(strlist)"
      ],
      "metadata": {
        "id": "SmtqG6u-pLgV",
        "colab": {
          "base_uri": "https://localhost:8080/"
        },
        "outputId": "efbb952f-780c-464a-e29e-7a80d5c45536"
      },
      "execution_count": null,
      "outputs": [
        {
          "output_type": "stream",
          "name": "stdout",
          "text": [
            "Enter a string:Shivam   Hello   World\n",
            "['Shivam', 'Hello', 'World']\n"
          ]
        }
      ]
    },
    {
      "cell_type": "code",
      "source": [
        "print(len(strlist))"
      ],
      "metadata": {
        "id": "9bjYEw_fpMOh",
        "colab": {
          "base_uri": "https://localhost:8080/"
        },
        "outputId": "f4202160-9f31-4f42-982e-a08e77cfd592"
      },
      "execution_count": null,
      "outputs": [
        {
          "output_type": "stream",
          "name": "stdout",
          "text": [
            "3\n"
          ]
        }
      ]
    },
    {
      "cell_type": "markdown",
      "source": [
        "Q.10 Write a code to concatenate two strings without using the + operator."
      ],
      "metadata": {
        "id": "tfXhwAijE1T5"
      }
    },
    {
      "cell_type": "code",
      "source": [
        "\n",
        "#Ans concatenate of two string without using +, here we use ',' in place of + operator\n",
        "str1=\"Hello\"\n",
        "str2=\"World\"\n",
        "print(str1,str2)\n"
      ],
      "metadata": {
        "colab": {
          "base_uri": "https://localhost:8080/"
        },
        "id": "YisyHh3wFUdP",
        "outputId": "e3cb34a9-d72f-47e0-d8b3-78f122c347ce"
      },
      "execution_count": null,
      "outputs": [
        {
          "output_type": "stream",
          "name": "stdout",
          "text": [
            "Hello World\n"
          ]
        }
      ]
    },
    {
      "cell_type": "markdown",
      "source": [
        "Q.11. Write a code to remove all occurrences of a specific element from a list."
      ],
      "metadata": {
        "id": "lEvcRHzIUxle"
      }
    },
    {
      "cell_type": "code",
      "source": [
        "\n",
        "#Ans. Here some integer value in alist some integer occurr many times, here we remove value 14 which occurr two times\n",
        "list=[11,13,13,11,14,14,100,200]\n",
        "value=14\n",
        "while value in list:\n",
        "    list.remove(value)\n",
        "print(list)\n"
      ],
      "metadata": {
        "colab": {
          "base_uri": "https://localhost:8080/"
        },
        "id": "Ttyc1kXLaGoX",
        "outputId": "f401e838-9978-41af-ae24-843cfbbd680d"
      },
      "execution_count": null,
      "outputs": [
        {
          "output_type": "stream",
          "name": "stdout",
          "text": [
            "[11, 13, 13, 11, 100, 200]\n"
          ]
        }
      ]
    },
    {
      "cell_type": "code",
      "source": [
        "#example2. Here a list some string value ,we remove student which occurr 3 times\n",
        "lis=[\"Shivam\",\"Student\",\"Student\",\"Student\",\"Satyam\"]\n",
        "value=\"Student\"\n",
        "while value in lis:\n",
        "    lis.remove(value)\n",
        "print(lis)"
      ],
      "metadata": {
        "colab": {
          "base_uri": "https://localhost:8080/"
        },
        "id": "aI0YGyusfudV",
        "outputId": "f9c6aa05-3e5f-4ee9-ef83-4d64d4015c34"
      },
      "execution_count": null,
      "outputs": [
        {
          "output_type": "stream",
          "name": "stdout",
          "text": [
            "['Shivam', 'Satyam']\n"
          ]
        }
      ]
    },
    {
      "cell_type": "markdown",
      "source": [
        "Q.12. Impliment a code to find the second largest number in a given list of integers."
      ],
      "metadata": {
        "id": "sJS0Dr9qgt7D"
      }
    },
    {
      "cell_type": "code",
      "source": [
        "\n",
        "#Ans.\n",
        "numbers=[10,20,30,40,50,60,70,80,90,100]\n",
        "\n",
        "numbers.sort()\n",
        "\n",
        "print(numbers[-2])"
      ],
      "metadata": {
        "id": "FbW8Rf_shroI",
        "colab": {
          "base_uri": "https://localhost:8080/"
        },
        "outputId": "6f3ac2c9-efc8-42ea-9c01-df9fea4e40a4"
      },
      "execution_count": null,
      "outputs": [
        {
          "output_type": "stream",
          "name": "stdout",
          "text": [
            "90\n"
          ]
        }
      ]
    },
    {
      "cell_type": "markdown",
      "source": [
        "Q.13. Create a code to count the occurrences of each element in a list and return a dictionary with elements as keys and their counts as values."
      ],
      "metadata": {
        "id": "hDB8HCyU8pKK"
      }
    },
    {
      "cell_type": "code",
      "source": [
        "\n",
        "#Ans.\n",
        "def count_occurrences(lst):\n",
        "#Initialize an empty dictionary\n",
        "    occurrence_dict = {}\n",
        "    #Iterate over the list and count occurrence\n",
        "    for item in lst:\n",
        "        if item in occurrence_dict:\n",
        "            occurrence_dict[item]+=1\n",
        "        else:\n",
        "            occurrence_dict[item]=1\n",
        "    return occurrence_dict\n",
        "my_list=[10,20,10,30,30,30,40,50,50,\"Shivam\"]\n",
        "result=count_occurrences(my_list)\n",
        "print(\"occurrences:\",result)"
      ],
      "metadata": {
        "colab": {
          "base_uri": "https://localhost:8080/"
        },
        "id": "qJ5ACaGe9Zd4",
        "outputId": "65556f60-89a6-4fc3-ca52-5423424c4c66"
      },
      "execution_count": null,
      "outputs": [
        {
          "output_type": "stream",
          "name": "stdout",
          "text": [
            "occurrences: {10: 2, 20: 1, 30: 3, 40: 1, 50: 2, 'Shivam': 1}\n"
          ]
        }
      ]
    },
    {
      "cell_type": "markdown",
      "source": [
        "Q.14. Write a code to reverse a list in-place without using any built-in reverse function."
      ],
      "metadata": {
        "id": "_Ca8meMvBPtS"
      }
    },
    {
      "cell_type": "code",
      "source": [
        "\n",
        "#Ans.\n",
        "def reverse_list(lst):\n",
        "    start = 0\n",
        "    end = len(lst) - 1\n",
        "\n",
        "    while start < end:\n",
        "        lst[start], lst[end] = lst[end],lst[start]\n",
        "\n",
        "        #move start forward and end backward\n",
        "        start += 1\n",
        "        end -= 1\n",
        "    return lst\n",
        "#example usage\n",
        "my_list = [1,2,3,4,5]\n",
        "reversed_list = reverse_list(my_list)\n",
        "print(\"Reversed List:\",reversed_list)"
      ],
      "metadata": {
        "colab": {
          "base_uri": "https://localhost:8080/"
        },
        "id": "-1jghnwTH8TY",
        "outputId": "22ea2f25-1062-4775-ec72-9c0b4d61fb2b"
      },
      "execution_count": null,
      "outputs": [
        {
          "output_type": "stream",
          "name": "stdout",
          "text": [
            "Reversed List: [5, 4, 3, 2, 1]\n"
          ]
        }
      ]
    },
    {
      "cell_type": "markdown",
      "source": [
        "Q.15. Impliment a code  to find and remove  duplicates from a list while preserving the original order of element."
      ],
      "metadata": {
        "id": "-voTly1jJedX"
      }
    },
    {
      "cell_type": "code",
      "source": [
        "\n",
        "#Ans.\n",
        "def remove_duplicates(lst):\n",
        "    seen = set()\n",
        "    result = []\n",
        "\n",
        "    for item in lst:\n",
        "        if item not in  seen:\n",
        "            result.append(item)\n",
        "            seen.add(item)\n",
        "    return result\n",
        "#example usage\n",
        "my_list=[3,3,4,4,4,5,5.6,7,7,7,8,8,9,9,9]\n",
        "unique_list=remove_duplicates(my_list)\n",
        "print(\"list without duplicates:\",unique_list)"
      ],
      "metadata": {
        "colab": {
          "base_uri": "https://localhost:8080/"
        },
        "id": "C5MminSMJ8ix",
        "outputId": "6089b2f3-1d21-40d4-9c26-ff9b44c2a3a3"
      },
      "execution_count": null,
      "outputs": [
        {
          "output_type": "stream",
          "name": "stdout",
          "text": [
            "list without duplicates: [3, 4, 5, 5.6, 7, 8, 9]\n"
          ]
        }
      ]
    },
    {
      "cell_type": "markdown",
      "source": [
        "Q.16. Create a code to check  if a given list is sorted (either in ascending or descending order ) or not."
      ],
      "metadata": {
        "id": "LT4SBp_BP5rf"
      }
    },
    {
      "cell_type": "code",
      "source": [
        "\n",
        "#Ans.\n",
        "def is_sorted(lst):\n",
        "    if lst==sorted(lst):\n",
        "        return \"the list is sorted in ascending order.\"\n",
        "\n",
        "    elif lst==sorted(lst,reverse=True):\n",
        "        return \"the list is sorted in descending order.\"\n",
        "    else:\n",
        "        return \"the list is not sorted.\"\n",
        "\n",
        "#example usage\n",
        "my_list1=[1,2,3,4,5]\n",
        "result1=is_sorted(my_list1)\n",
        "print(result1)\n",
        "\n",
        "my_list2=[5,4,3,2,1]\n",
        "result2=is_sorted(my_list2)\n",
        "print(result2)\n",
        "\n",
        "my_list3=[2,1,3,5,7,9]\n",
        "result3=is_sorted(my_list3)\n",
        "print(result3)\n",
        "\n",
        "\n",
        "\n"
      ],
      "metadata": {
        "id": "-aDsjffhQWM4",
        "colab": {
          "base_uri": "https://localhost:8080/"
        },
        "outputId": "3b77ee32-51f3-4596-b7b5-0b6c35bffcd1"
      },
      "execution_count": null,
      "outputs": [
        {
          "output_type": "stream",
          "name": "stdout",
          "text": [
            "the list is sorted in ascending order.\n",
            "the list is sorted in descending order.\n",
            "the list is not sorted.\n"
          ]
        }
      ]
    },
    {
      "cell_type": "markdown",
      "source": [
        "Q.17. Write a code to merge two sorted lists into a single sorted list."
      ],
      "metadata": {
        "id": "bL7FJsXh9Cql"
      }
    },
    {
      "cell_type": "code",
      "source": [
        "#Ans.\n",
        "def merge_sorted_lists(list1,list2):\n",
        "    merged_list=[]\n",
        "    i,j=0,0\n",
        "\n",
        "    while i<len(list1) and j<len(list2):\n",
        "        if list1[i]<list2[j]:\n",
        "            merged_list.append(list1[i])\n",
        "            i+=1\n",
        "        else:\n",
        "            merged_list.append(list2[j])\n",
        "            j+=1\n",
        "    while i<len(list1):\n",
        "      merged_list.append(list1[i])\n",
        "      i+= 1\n",
        "    while j<len(list2):\n",
        "      merged_list.append(list2[j])\n",
        "      j+= 1\n",
        "    return merged_list\n",
        "\n",
        "\n",
        "\n"
      ],
      "metadata": {
        "id": "9HK-6mzN9FBh"
      },
      "execution_count": 2,
      "outputs": []
    },
    {
      "cell_type": "code",
      "source": [
        "#Q.17\n",
        "#example:\n",
        "list1=[1,2,5,7]\n",
        "list2=[3,4,6,8]\n",
        "result=merge_sorted_lists(list1,list2)\n",
        "print(\"Merged sorted list:\",result)"
      ],
      "metadata": {
        "colab": {
          "base_uri": "https://localhost:8080/"
        },
        "id": "TPX3EXL4aUo8",
        "outputId": "9aedd69a-59bb-46b2-b130-1bbfebd22b23"
      },
      "execution_count": 3,
      "outputs": [
        {
          "output_type": "stream",
          "name": "stdout",
          "text": [
            "Merged sorted list: [1, 2, 3, 4, 5, 6, 7, 8]\n"
          ]
        }
      ]
    },
    {
      "cell_type": "markdown",
      "source": [
        "Q.18. Impliment a code  to find the intersection of two given lists."
      ],
      "metadata": {
        "id": "TDVkHsYsHfJL"
      }
    },
    {
      "cell_type": "code",
      "source": [
        "\n",
        "#Ans\n",
        "list1= [1,2,3,4,5]\n",
        "list2=[4,5,6,7,8]\n",
        "intersection=list(set(list1) & set(list2))\n",
        "print(\"intersection:\",intersection)"
      ],
      "metadata": {
        "colab": {
          "base_uri": "https://localhost:8080/"
        },
        "id": "-6D8thpOH2mf",
        "outputId": "c402cd2b-dcd3-4308-92ed-0671241ad452"
      },
      "execution_count": null,
      "outputs": [
        {
          "output_type": "stream",
          "name": "stdout",
          "text": [
            "intersection: [4, 5]\n"
          ]
        }
      ]
    },
    {
      "cell_type": "markdown",
      "source": [
        "Q.19. Create a code to find the union of two lists without duplicates."
      ],
      "metadata": {
        "id": "uV3sX0UkLzo2"
      }
    },
    {
      "cell_type": "code",
      "source": [
        "\n",
        "#Ans\n",
        "def union(list1,list2):\n",
        "    return list(set(list1)|set(list2))\n",
        "#example\n",
        "list1=[5,6,7,8]\n",
        "list2=[7,8,9,10]\n",
        "result= union(list1,list2)\n",
        "print(result)"
      ],
      "metadata": {
        "colab": {
          "base_uri": "https://localhost:8080/"
        },
        "id": "KVDhcSzsMGmb",
        "outputId": "3f894033-6e8c-4a8b-f2b7-7e0ebf8688cc"
      },
      "execution_count": null,
      "outputs": [
        {
          "output_type": "stream",
          "name": "stdout",
          "text": [
            "[5, 6, 7, 8, 9, 10]\n"
          ]
        }
      ]
    },
    {
      "cell_type": "markdown",
      "source": [
        "Q.20. Write a code to shuffle a given list randomly without using any built-in shuffle functions."
      ],
      "metadata": {
        "id": "K80JqbxQNFfx"
      }
    },
    {
      "cell_type": "code",
      "source": [
        "\n",
        "#Ans\n",
        "import random\n",
        "def shuffle_list(lst):\n",
        "  #iterate over the list from the last element to the second element\n",
        "  for i in range(len(lst)-1,0,-1):\n",
        "      #Generate a random index from 0 to i\n",
        "      j= random.randint(0,i)\n",
        "      #Swap elements at i and j\n",
        "      lst[i],lst[j] = lst[j],lst[i]\n",
        "#example\n",
        "my_list=[5,6,7,8,9,10,13,17]\n",
        "shuffle_list(my_list)\n",
        "print(my_list)"
      ],
      "metadata": {
        "colab": {
          "base_uri": "https://localhost:8080/"
        },
        "id": "2FJTdaYVNmwD",
        "outputId": "4b1d1bc4-5d22-4d7b-d90b-54d1f5da1d3b"
      },
      "execution_count": null,
      "outputs": [
        {
          "output_type": "stream",
          "name": "stdout",
          "text": [
            "[6, 5, 10, 13, 7, 9, 17, 8]\n"
          ]
        }
      ]
    },
    {
      "cell_type": "markdown",
      "source": [
        "Q.21. Write a code that takes two tuples as input and returns a new tuple containing elements that are common to both input tuples."
      ],
      "metadata": {
        "id": "3CmGpFR6YgVa"
      }
    },
    {
      "cell_type": "code",
      "source": [
        "\n",
        "#Ans.\n",
        "def common_elements(tuple1,tuple2):\n",
        "\n",
        "    common_set=set(tuple1)&set(tuple2)\n",
        "    return tuple(common_set)\n",
        "\n",
        "#example:\n",
        "tuple1=(50,60,70,80,90)\n",
        "tuple2=(70,80,90,100)\n",
        "result=common_elements(tuple1,tuple2)\n",
        "print(result)\n"
      ],
      "metadata": {
        "colab": {
          "base_uri": "https://localhost:8080/"
        },
        "id": "KFvtFv7Wafo-",
        "outputId": "743d2ac1-ff58-4e6e-9b14-057fa960cf18"
      },
      "execution_count": null,
      "outputs": [
        {
          "output_type": "stream",
          "name": "stdout",
          "text": [
            "(80, 90, 70)\n"
          ]
        }
      ]
    },
    {
      "cell_type": "markdown",
      "source": [
        "Q.22. Create a code that prompts the user to enter two sets of integers seperated by commas.Then ,print the intersection of  these two sets."
      ],
      "metadata": {
        "id": "kuHp-jBmgJIN"
      }
    },
    {
      "cell_type": "code",
      "source": [
        "\n",
        "#Ans.\n",
        "\n",
        "def get_set_input(prompt):\n",
        "    user_input = input(prompt)\n",
        "    user_set = set(map(int, user_input.split(',')))\n",
        "    return user_set\n",
        "def main():\n",
        "\n",
        "    set1 = get_set_input(\"Enter the first set of integers(seperated by commas): \")\n",
        "    set2 = get_set_input(\"Enter the second set of integers(seperated by commas):\")\n",
        "\n",
        "    intersection = set1&set2\n",
        "\n",
        "    print(\"The intersection of the two sets is:\",intersection)\n",
        "\n",
        "main()\n",
        "\n"
      ],
      "metadata": {
        "id": "gqoYczb7hGWq",
        "colab": {
          "base_uri": "https://localhost:8080/"
        },
        "outputId": "fc7bcdfa-6aa6-482b-ec8a-738bce5f0153"
      },
      "execution_count": null,
      "outputs": [
        {
          "output_type": "stream",
          "name": "stdout",
          "text": [
            "Enter the first set of integers(seperated by commas): 40,50,60\n",
            "Enter the second set of integers(seperated by commas):50,70,80\n",
            "The intersection of the two sets is: {50}\n"
          ]
        }
      ]
    },
    {
      "cell_type": "markdown",
      "source": [
        "Q.23. Write a code to concatenate two tuples.The function should take two tuples as input and return a new tuple containing elements from both input tuples."
      ],
      "metadata": {
        "id": "Wm2TxB_ObgpK"
      }
    },
    {
      "cell_type": "code",
      "source": [
        "\n",
        "#Ans\n",
        "def concatenate_tuples(tuple1,tuple2):\n",
        "    concatenate_tuple=tuple1+tuple2\n",
        "    return concatenate_tuple\n",
        "#example\n",
        "tuple1=(1,2,3,4,5)\n",
        "tuple2=(6,7,8,9,10)\n",
        "result=concatenate_tuples(tuple1,tuple2)\n",
        "print(result)\n"
      ],
      "metadata": {
        "colab": {
          "base_uri": "https://localhost:8080/"
        },
        "id": "GnFK_0lncLd5",
        "outputId": "bd3d31a8-f297-4e83-ad4c-8fb4b6af3d68"
      },
      "execution_count": null,
      "outputs": [
        {
          "output_type": "stream",
          "name": "stdout",
          "text": [
            "(1, 2, 3, 4, 5, 6, 7, 8, 9, 10)\n"
          ]
        }
      ]
    },
    {
      "cell_type": "markdown",
      "source": [
        "Q.24. Devlop a code that prompts the user to input two sets of strings.Then print the elements that are present in the first set but not in the second set."
      ],
      "metadata": {
        "id": "t4ycDNVjdSNO"
      }
    },
    {
      "cell_type": "code",
      "source": [
        "\n",
        "#Ans.\n",
        "def get_set_input(prompt):\n",
        "    #Take input from the user , split by commas, and convert each elements to a string\n",
        "    user_input = input(prompt)\n",
        "    user_set = set(user_input.split(','))\n",
        "    return user_set\n",
        "def main():\n",
        "  #prompt the user for two sets of string\n",
        "  set1 = get_set_input(\"Enter first set of string(separated by commas):\")\n",
        "  set2 = get_set_input(\"Enter second set of string(separated by commas):\")\n",
        "\n",
        "  difference= set1-set2\n",
        "  print(\"Element present in first set but not in second set:\",difference)\n",
        "main()\n"
      ],
      "metadata": {
        "colab": {
          "base_uri": "https://localhost:8080/"
        },
        "id": "Ai3uIugy_fBv",
        "outputId": "3108bd5b-9dcb-4253-85b9-18f5c448bf42"
      },
      "execution_count": null,
      "outputs": [
        {
          "output_type": "stream",
          "name": "stdout",
          "text": [
            "Enter first set of string(separated by commas):shivam,pandey,satyam,shubham\n",
            "Enter second set of string(separated by commas):Abhishek,Akanksha,shivam\n",
            "Element present in first set but not in second set: {'satyam', 'shubham', 'pandey'}\n"
          ]
        }
      ]
    },
    {
      "cell_type": "markdown",
      "source": [
        "Q.25. Create a code that takes a tuple and two integers as input.The function should return a new tuple containing elements from the original tuple within the specified range of indices."
      ],
      "metadata": {
        "id": "E_bJMJpSK4LD"
      }
    },
    {
      "cell_type": "code",
      "source": [
        "\n",
        "#Ans.\n",
        "def slice_tuple(original_tuple, start_index, end_index):\n",
        "\n",
        "    return original_tuple[start_index:end_index]\n",
        "\n",
        "original_tuple=(30,40,50,60,70,80,90)\n",
        "start_index = 2\n",
        "end_index = 5\n",
        "result= slice_tuple(original_tuple,start_index,end_index)\n",
        "print(result)\n"
      ],
      "metadata": {
        "colab": {
          "base_uri": "https://localhost:8080/"
        },
        "id": "jlUdPj4-Onw0",
        "outputId": "d19afba5-c07f-4529-f6fb-3e7dc8cdeba4"
      },
      "execution_count": null,
      "outputs": [
        {
          "output_type": "stream",
          "name": "stdout",
          "text": [
            "(50, 60, 70)\n"
          ]
        }
      ]
    },
    {
      "cell_type": "markdown",
      "source": [
        "Q.26. Write a code that prompts the user  to input two sets of charecters.Then,print the union of these two sets."
      ],
      "metadata": {
        "id": "P-4GXJ0-QmVS"
      }
    },
    {
      "cell_type": "code",
      "source": [
        "\n",
        "#Ans\n",
        "def get_set_input(prompt):\n",
        "    user_input = input(prompt)\n",
        "    user_set = set(user_input.split(','))\n",
        "    return user_set\n",
        "def main():\n",
        "\n",
        "    set1 = get_set_input(\"Enter the first set of charecters(seperated by commas):\")\n",
        "    set2= get_set_input(\"Enter the second set of charecters(seperated by commas):\")\n",
        "\n",
        "    union= set1|set2\n",
        "\n",
        "    print(\"The union of two sets is:\",union)\n",
        "main()\n"
      ],
      "metadata": {
        "colab": {
          "base_uri": "https://localhost:8080/"
        },
        "id": "R_5zROG6RWuF",
        "outputId": "46d38385-77f7-4eff-f4d9-2acb220b93af"
      },
      "execution_count": null,
      "outputs": [
        {
          "output_type": "stream",
          "name": "stdout",
          "text": [
            "Enter the first set of charecters(seperated by commas):shivam,pwskills,scientist\n",
            "Enter the second set of charecters(seperated by commas):pwskills,ds,python\n",
            "The union of two sets is: {'ds', 'scientist', 'pwskills', 'shivam', 'python'}\n"
          ]
        }
      ]
    },
    {
      "cell_type": "markdown",
      "source": [
        "Q.27. Devlop a code that takes a tuple  of integers as input.The function should return the maximum and the minimum values from the tuple using tuple unpacking."
      ],
      "metadata": {
        "id": "sQjgE9NRXo3z"
      }
    },
    {
      "cell_type": "code",
      "source": [
        "\n",
        "#Ans.\n",
        "def find_max_min(input_tuple):\n",
        "\n",
        "    max_val = max(input_tuple)\n",
        "    min_val = min(input_tuple)\n",
        "\n",
        "    return max_val,min_val\n",
        "#example\n",
        "input_tuple =(1,2,3,5,7,9)\n",
        "max_val,min_val=find_max_min(input_tuple)\n",
        "print(\"Maximum value:\",max_val)\n",
        "print(\"Minimum value:\",min_val)\n"
      ],
      "metadata": {
        "colab": {
          "base_uri": "https://localhost:8080/"
        },
        "id": "sWaGG5prYeoT",
        "outputId": "882ff902-841c-411f-c289-c274f0e6b22a"
      },
      "execution_count": null,
      "outputs": [
        {
          "output_type": "stream",
          "name": "stdout",
          "text": [
            "Maximum value: 9\n",
            "Minimum value: 1\n"
          ]
        }
      ]
    },
    {
      "cell_type": "markdown",
      "source": [
        "Q.28. Create a code that defines two sets of integers.Then, print the union ,intersection and difference of these two sets."
      ],
      "metadata": {
        "id": "3_QYQFPxaghX"
      }
    },
    {
      "cell_type": "code",
      "source": [
        "\n",
        "#Ans\n",
        "set1={1,2,3,4,5}\n",
        "set2={4,5,6,7,8}\n",
        "union=set1|set2\n",
        "intersection=set1&set2\n",
        "difference=set1-set2\n",
        "print(\"union:\",union)\n",
        "print(\"intersection:\",intersection)\n",
        "print(\"difference:\",difference)\n",
        "\n"
      ],
      "metadata": {
        "colab": {
          "base_uri": "https://localhost:8080/"
        },
        "id": "nhIqVc7YcgFP",
        "outputId": "845d8bf3-89fe-4dd2-fa22-fa75750f5c45"
      },
      "execution_count": null,
      "outputs": [
        {
          "output_type": "stream",
          "name": "stdout",
          "text": [
            "union: {1, 2, 3, 4, 5, 6, 7, 8}\n",
            "intersection: {4, 5}\n",
            "difference: {1, 2, 3}\n"
          ]
        }
      ]
    },
    {
      "cell_type": "markdown",
      "source": [
        "Q.29. Write a code that takes a tuple and an element as input.The function should return the count of occurrences of the given element of the tuple."
      ],
      "metadata": {
        "id": "4-mYqVknd1s8"
      }
    },
    {
      "cell_type": "code",
      "source": [
        "\n",
        "#Ans.\n",
        "def count_occurrences(input_tuple,element):\n",
        "    return input_tuple.count(element)\n",
        "\n",
        "input_tuple=(1,2,4,5,6,8,9,7,6,7,3,)\n",
        "element=7\n",
        "count=count_occurrences(input_tuple,element)\n",
        "print(f\"The element{element} appears {count} times in the tuple.\")\n",
        "\n",
        "\n",
        "\n"
      ],
      "metadata": {
        "colab": {
          "base_uri": "https://localhost:8080/"
        },
        "id": "etryPyV_eh9K",
        "outputId": "0dbe4759-b042-46d1-fd1b-b03783836a3d"
      },
      "execution_count": null,
      "outputs": [
        {
          "output_type": "stream",
          "name": "stdout",
          "text": [
            "The element7 appears 2 times in the tuple.\n"
          ]
        }
      ]
    },
    {
      "cell_type": "markdown",
      "source": [
        "Q.30. Devlop a code that prompts the user  to input two sets of strings.Then print the symmetric difference of these two sets."
      ],
      "metadata": {
        "id": "BOJMOa6NhPv7"
      }
    },
    {
      "cell_type": "code",
      "source": [
        "\n",
        "#Ans.\n",
        "def get_set_input(prompt):\n",
        "    user_input=input(prompt)\n",
        "    user_set=set(user_input.split(','))\n",
        "    return user_set\n",
        "def main():\n",
        "    set1=get_set_input(\"Enter the first set of strings (separated by commas):\")\n",
        "    set2=get_set_input(\"Enter the second set of strings (separated by commas):\")\n",
        "    symmetric_difference=set1^set2\n",
        "    print(\"The symmetric difference of the two sets of string is:\",symmetric_difference)\n",
        "main()\n"
      ],
      "metadata": {
        "id": "KO63ytH7i-Qd",
        "colab": {
          "base_uri": "https://localhost:8080/"
        },
        "outputId": "1fb47120-8db7-4799-d55b-a315a612d341"
      },
      "execution_count": null,
      "outputs": [
        {
          "output_type": "stream",
          "name": "stdout",
          "text": [
            "Enter the first set of strings (separated by commas):apple,banana,orange,\n",
            "Enter the second set of strings (separated by commas):satyam,shivam,apple,orange\n",
            "The symmetric difference of the two sets of string is: {'satyam', '', 'shivam', 'banana'}\n"
          ]
        }
      ]
    },
    {
      "cell_type": "markdown",
      "source": [
        "Q.31.Write a code that takes a list of words as input and return a dictionary where the keys are unique words and the values are the frequencies of those words in the input list."
      ],
      "metadata": {
        "id": "VUPL91W7wt31"
      }
    },
    {
      "cell_type": "code",
      "source": [
        "\n",
        "#Ans.\n",
        "def word_frequency(word_list):\n",
        "    frequency_dict = {}\n",
        "\n",
        "    for word in word_list:\n",
        "        if word in frequency_dict:\n",
        "            frequency_dict[word] +=1\n",
        "        else:\n",
        "            frequency_dict[word] = 1\n",
        "    return frequency_dict\n",
        "#example\n",
        "word_list = input(\"Enter a list of words(separated by spaces):\").split()\n",
        "result = word_frequency(word_list)\n",
        "print(\"Word frequencies:\",result)\n",
        "\n",
        "\n",
        "\n"
      ],
      "metadata": {
        "colab": {
          "base_uri": "https://localhost:8080/"
        },
        "id": "OOtgvSXhx3dm",
        "outputId": "d59ecf9e-ce84-49fa-b147-91b50479e6d9"
      },
      "execution_count": null,
      "outputs": [
        {
          "output_type": "stream",
          "name": "stdout",
          "text": [
            "Enter a list of words(separated by spaces):apple mango apple\n",
            "Word frequencies: {'apple': 2, 'mango': 1}\n"
          ]
        }
      ]
    },
    {
      "cell_type": "markdown",
      "source": [
        "Q.32.Write a code that takes two dictionaries as input and merges them into a single dictionary.If there are common keys,the values should be added together."
      ],
      "metadata": {
        "id": "AlZqt_I39oYo"
      }
    },
    {
      "cell_type": "code",
      "source": [
        "\n",
        "#Ans\n",
        "def merge_dicts(dict1,dict2):\n",
        "    merged_dict=dict1.copy()\n",
        "\n",
        "    for key, value in dict2.items():\n",
        "        if key in merged_dict:\n",
        "           merged_dict[key]+= value\n",
        "        else:\n",
        "            merged_dict[key]= value\n",
        "    return merged_dict\n",
        "#example\n",
        "dict1={'a':3,'b':4,'c':5}\n",
        "dict2={'b':3,'c':6,'d':9}\n",
        "result=merge_dicts(dict1,dict2)\n",
        "print(\"Merged Dictionary:\",result)\n",
        "\n",
        "\n"
      ],
      "metadata": {
        "colab": {
          "base_uri": "https://localhost:8080/"
        },
        "id": "glFooFbb-il-",
        "outputId": "dd032992-766e-4def-941d-41d63b711517"
      },
      "execution_count": null,
      "outputs": [
        {
          "output_type": "stream",
          "name": "stdout",
          "text": [
            "Merged Dictionary: {'a': 3, 'b': 7, 'c': 11, 'd': 9}\n"
          ]
        }
      ]
    },
    {
      "cell_type": "markdown",
      "source": [
        "Q.33.Write a code to access a value in a nasted dictionary.The function should take the dictionary and a list of keys as input,and return the corresponding value.If any of keys do not exist in the dictionary ,the function should return none."
      ],
      "metadata": {
        "id": "HqFMBssVCOJZ"
      }
    },
    {
      "cell_type": "code",
      "source": [
        "\n",
        "#Ans.\n",
        "def access_nested_dict(nested_dict,keys):\n",
        "  #iterate over the list of keys\n",
        "  for key in keys:\n",
        "      if key not in nested_dict:\n",
        "          return None\n",
        "      nested_dict=nested_dict[key]\n",
        "  return nested_dict\n",
        "#example\n",
        "nested_dict={\n",
        "    'a': {\n",
        "        'b':{\n",
        "            'c':10\n",
        "        },\n",
        "        'd':20\n",
        "    }\n",
        "}\n",
        "\n",
        "keys =['a','b','c']\n",
        "result=access_nested_dict(nested_dict,keys)\n",
        "print(\"value:\",result)\n",
        "#example with non existance key\n",
        "keys_non_existent =['a','x','c']\n",
        "result_non_existent = access_nested_dict(nested_dict,keys_non_existent)\n",
        "print(\"Value for non-existent keys:\",result_non_existent)"
      ],
      "metadata": {
        "id": "sdyEPhreDNjW",
        "colab": {
          "base_uri": "https://localhost:8080/"
        },
        "outputId": "8aeb957d-3bbe-4572-e647-6ce9afea8197"
      },
      "execution_count": null,
      "outputs": [
        {
          "output_type": "stream",
          "name": "stdout",
          "text": [
            "value: 10\n",
            "Value for non-existent keys: None\n"
          ]
        }
      ]
    },
    {
      "cell_type": "markdown",
      "source": [
        "Q.34. Write a code that takes a dictionary as input and returns a sorted version  of it based on the values.You can choose  whether to sort in ascending or descending order"
      ],
      "metadata": {
        "id": "GFccDy4au7Z6"
      }
    },
    {
      "cell_type": "code",
      "source": [
        "\n",
        "#Ans\n",
        "\n",
        "def sort_dict_by_value(input_dict,descending=False):\n",
        "    #sort the dictionary by its values\n",
        "    sorted_dict=dict(sorted(input_dict.items(),key=lambda item:item[1],reverse=descending))\n",
        "    return sorted_dict\n",
        "\n",
        "#example\n",
        "input_dict={'a':4,'b':5,'c':2,'d':9}\n",
        "#sort in ascending order(default)\n",
        "sorted_dict_ascending=sort_dict_by_value(input_dict)\n",
        "print(\"Sorted dictionary in ascending order:\",sorted_dict_ascending)\n",
        "#sorted in descending order\n",
        "sorted_dict_descending= sort_dict_by_value(input_dict,descending=True)\n",
        "print(\"Sorted dictionary in descending order:\",sorted_dict_descending)\n"
      ],
      "metadata": {
        "colab": {
          "base_uri": "https://localhost:8080/"
        },
        "id": "N1fMkh42v6Uy",
        "outputId": "edfac3d8-6816-4de3-abb2-70bb4efc7db5"
      },
      "execution_count": null,
      "outputs": [
        {
          "output_type": "stream",
          "name": "stdout",
          "text": [
            "Sorted dictionary in ascending order: {'c': 2, 'a': 4, 'b': 5, 'd': 9}\n",
            "Sorted dictionary in descending order: {'d': 9, 'b': 5, 'a': 4, 'c': 2}\n"
          ]
        }
      ]
    },
    {
      "cell_type": "markdown",
      "source": [
        "Q.35. Write a code that inverts a dictionary,swapping keys and values.Ensure that the inverted dictionary correctly handles cases where multiple keys have the same value by storing the keys as a list in the inverted dictionary."
      ],
      "metadata": {
        "id": "PsArqXgrzrzT"
      }
    },
    {
      "cell_type": "code",
      "source": [
        "\n",
        "#Ans\n",
        "def inverted_dict(input_dict):\n",
        "    inverted_dict={}\n",
        "    #Iterate through the origional dictionary\n",
        "    for key, value in input_dict.items():\n",
        "      #If the value is already in the inverted dictionary,append the key to the list\n",
        "        if value in inverted_dict:\n",
        "            inverted_dict[value].append(key)\n",
        "        else:\n",
        "            #if the value is not in the inverted dictionary, create a new entery with the key in a list\n",
        "            inverted_dict[value]=[key]\n",
        "    return inverted_dict\n",
        "#example\n",
        "input_dict={'a':5,'b':9,'c':5,'d':1}\n",
        "\n",
        "inverted_dict=inverted_dict(input_dict)\n",
        "print(\"inverted dictionary:\",inverted_dict)"
      ],
      "metadata": {
        "colab": {
          "base_uri": "https://localhost:8080/"
        },
        "id": "YtJZn0P50iMD",
        "outputId": "5b80f38f-1ed6-4e6c-8f03-971af1223fc9"
      },
      "execution_count": null,
      "outputs": [
        {
          "output_type": "stream",
          "name": "stdout",
          "text": [
            "inverted dictionary: {5: ['a', 'c'], 9: ['b'], 1: ['d']}\n"
          ]
        }
      ]
    }
  ]
}